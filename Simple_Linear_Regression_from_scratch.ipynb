{
  "nbformat": 4,
  "nbformat_minor": 0,
  "metadata": {
    "colab": {
      "name": "Simple Linear Regression from scratch.ipynb",
      "provenance": [],
      "collapsed_sections": [],
      "authorship_tag": "ABX9TyOwcmoWRarfQ6B3UbNyciXt",
      "include_colab_link": true
    },
    "kernelspec": {
      "name": "python3",
      "display_name": "Python 3"
    },
    "language_info": {
      "name": "python"
    }
  },
  "cells": [
    {
      "cell_type": "markdown",
      "metadata": {
        "id": "view-in-github",
        "colab_type": "text"
      },
      "source": [
        "<a href=\"https://colab.research.google.com/github/MouadEttali/From-scratch-machine-learning---From-mathematical-formulas-to-functioning-algorithms/blob/main/Simple_Linear_Regression_from_scratch.ipynb\" target=\"_parent\"><img src=\"https://colab.research.google.com/assets/colab-badge.svg\" alt=\"Open In Colab\"/></a>"
      ]
    },
    {
      "cell_type": "markdown",
      "metadata": {
        "id": "gGUaU2Dh1trX"
      },
      "source": [
        "# The purpose of this notebook is to impliment a simple Linear regression from scratch i.e from the basic mathematical notions to a functioning bit of code that is equivalent to calling the LinearRegressor function from scikit-learn"
      ]
    },
    {
      "cell_type": "markdown",
      "metadata": {
        "id": "Mkn8tHmF2LiY"
      },
      "source": [
        "**Loading the data**"
      ]
    },
    {
      "cell_type": "code",
      "metadata": {
        "id": "UcId-l8c8vDR"
      },
      "source": [
        "import numpy as np\n",
        "import pandas as pd\n",
        "\n",
        "df = pd.read_csv('/content/sample_data/california_housing_train.csv')"
      ],
      "execution_count": 2,
      "outputs": []
    },
    {
      "cell_type": "code",
      "metadata": {
        "colab": {
          "base_uri": "https://localhost:8080/",
          "height": 206
        },
        "id": "8G1872Vp9MD7",
        "outputId": "439c3c84-0a53-469b-c621-408eaf19dfdd"
      },
      "source": [
        "df.head()"
      ],
      "execution_count": 3,
      "outputs": [
        {
          "output_type": "execute_result",
          "data": {
            "text/html": [
              "<div>\n",
              "<style scoped>\n",
              "    .dataframe tbody tr th:only-of-type {\n",
              "        vertical-align: middle;\n",
              "    }\n",
              "\n",
              "    .dataframe tbody tr th {\n",
              "        vertical-align: top;\n",
              "    }\n",
              "\n",
              "    .dataframe thead th {\n",
              "        text-align: right;\n",
              "    }\n",
              "</style>\n",
              "<table border=\"1\" class=\"dataframe\">\n",
              "  <thead>\n",
              "    <tr style=\"text-align: right;\">\n",
              "      <th></th>\n",
              "      <th>longitude</th>\n",
              "      <th>latitude</th>\n",
              "      <th>housing_median_age</th>\n",
              "      <th>total_rooms</th>\n",
              "      <th>total_bedrooms</th>\n",
              "      <th>population</th>\n",
              "      <th>households</th>\n",
              "      <th>median_income</th>\n",
              "      <th>median_house_value</th>\n",
              "    </tr>\n",
              "  </thead>\n",
              "  <tbody>\n",
              "    <tr>\n",
              "      <th>0</th>\n",
              "      <td>-114.31</td>\n",
              "      <td>34.19</td>\n",
              "      <td>15.0</td>\n",
              "      <td>5612.0</td>\n",
              "      <td>1283.0</td>\n",
              "      <td>1015.0</td>\n",
              "      <td>472.0</td>\n",
              "      <td>1.4936</td>\n",
              "      <td>66900.0</td>\n",
              "    </tr>\n",
              "    <tr>\n",
              "      <th>1</th>\n",
              "      <td>-114.47</td>\n",
              "      <td>34.40</td>\n",
              "      <td>19.0</td>\n",
              "      <td>7650.0</td>\n",
              "      <td>1901.0</td>\n",
              "      <td>1129.0</td>\n",
              "      <td>463.0</td>\n",
              "      <td>1.8200</td>\n",
              "      <td>80100.0</td>\n",
              "    </tr>\n",
              "    <tr>\n",
              "      <th>2</th>\n",
              "      <td>-114.56</td>\n",
              "      <td>33.69</td>\n",
              "      <td>17.0</td>\n",
              "      <td>720.0</td>\n",
              "      <td>174.0</td>\n",
              "      <td>333.0</td>\n",
              "      <td>117.0</td>\n",
              "      <td>1.6509</td>\n",
              "      <td>85700.0</td>\n",
              "    </tr>\n",
              "    <tr>\n",
              "      <th>3</th>\n",
              "      <td>-114.57</td>\n",
              "      <td>33.64</td>\n",
              "      <td>14.0</td>\n",
              "      <td>1501.0</td>\n",
              "      <td>337.0</td>\n",
              "      <td>515.0</td>\n",
              "      <td>226.0</td>\n",
              "      <td>3.1917</td>\n",
              "      <td>73400.0</td>\n",
              "    </tr>\n",
              "    <tr>\n",
              "      <th>4</th>\n",
              "      <td>-114.57</td>\n",
              "      <td>33.57</td>\n",
              "      <td>20.0</td>\n",
              "      <td>1454.0</td>\n",
              "      <td>326.0</td>\n",
              "      <td>624.0</td>\n",
              "      <td>262.0</td>\n",
              "      <td>1.9250</td>\n",
              "      <td>65500.0</td>\n",
              "    </tr>\n",
              "  </tbody>\n",
              "</table>\n",
              "</div>"
            ],
            "text/plain": [
              "   longitude  latitude  ...  median_income  median_house_value\n",
              "0    -114.31     34.19  ...         1.4936             66900.0\n",
              "1    -114.47     34.40  ...         1.8200             80100.0\n",
              "2    -114.56     33.69  ...         1.6509             85700.0\n",
              "3    -114.57     33.64  ...         3.1917             73400.0\n",
              "4    -114.57     33.57  ...         1.9250             65500.0\n",
              "\n",
              "[5 rows x 9 columns]"
            ]
          },
          "metadata": {},
          "execution_count": 3
        }
      ]
    },
    {
      "cell_type": "markdown",
      "metadata": {
        "id": "xJnZht7G2QDP"
      },
      "source": [
        "**A scatter plot to visualize the Linear relationship between the population \n",
        "and total bedrooms**"
      ]
    },
    {
      "cell_type": "code",
      "metadata": {
        "colab": {
          "base_uri": "https://localhost:8080/",
          "height": 297
        },
        "id": "06n_SYfm9N_c",
        "outputId": "1df5bd50-817d-42f4-f6d4-2f09bb1d2480"
      },
      "source": [
        "import matplotlib.pyplot as plt\n",
        "\n",
        "population = df['population']   # creating pandas series variables to hold the data we're interested in without changing the original DataFrame \n",
        "bedrooms = df['total_bedrooms']\n",
        "# Visualization\n",
        "plt.scatter(population, bedrooms)\n",
        "plt.xlabel('Population')\n",
        "plt.ylabel('bedrooms')"
      ],
      "execution_count": 4,
      "outputs": [
        {
          "output_type": "execute_result",
          "data": {
            "text/plain": [
              "Text(0, 0.5, 'bedrooms')"
            ]
          },
          "metadata": {},
          "execution_count": 4
        },
        {
          "output_type": "display_data",
          "data": {
            "image/png": "[encoded data removed]",
            "text/plain": [
              "<Figure size 432x288 with 1 Axes>"
            ]
          },
          "metadata": {
            "needs_background": "light"
          }
        }
      ]
    },
    {
      "cell_type": "code",
      "metadata": {
        "colab": {
          "base_uri": "https://localhost:8080/"
        },
        "id": "OwPXxNyT9fdF",
        "outputId": "bdff86b3-8b40-4fc4-b2fd-e5779439372d"
      },
      "source": [
        "population_np = population.to_numpy()  # converting to numpy arrays so we can later on feed into our model \n",
        "bedrooms_np = bedrooms.to_numpy()\n",
        "\n",
        "population_np.shape , bedrooms_np.shape"
      ],
      "execution_count": 5,
      "outputs": [
        {
          "output_type": "execute_result",
          "data": {
            "text/plain": [
              "((17000,), (17000,))"
            ]
          },
          "metadata": {},
          "execution_count": 5
        }
      ]
    },
    {
      "cell_type": "markdown",
      "metadata": {
        "id": "D115O27N232N"
      },
      "source": [
        "# Let's start by using the integrated Linear Regression that comes with the scikit learn machine learning library \n",
        "**Fitting and predicting the number of bedrooms based on the population** \n"
      ]
    },
    {
      "cell_type": "code",
      "metadata": {
        "colab": {
          "base_uri": "https://localhost:8080/"
        },
        "id": "n_kN16zF959U",
        "outputId": "0d95886f-4c48-4d76-ddd7-0afd7bb550e9"
      },
      "source": [
        "from sklearn.linear_model import LinearRegression as LR\n",
        "LR_model = LR().fit(population_np.reshape(17000,1),bedrooms_np)\n",
        "sklearn_predictions = LR_model.predict(population_np.reshape(17000,1))\n",
        "sklearn_predictions.shape"
      ],
      "execution_count": 6,
      "outputs": [
        {
          "output_type": "execute_result",
          "data": {
            "text/plain": [
              "(17000,)"
            ]
          },
          "metadata": {},
          "execution_count": 6
        }
      ]
    },
    {
      "cell_type": "code",
      "metadata": {
        "colab": {
          "base_uri": "https://localhost:8080/",
          "height": 298
        },
        "id": "z4Qmnz4p9_eF",
        "outputId": "ef4c741d-74b7-4a01-ef84-af4a18a72744"
      },
      "source": [
        "# Visualizing the predicted values on top of the data\n",
        "plt.scatter(population, bedrooms)\n",
        "plt.scatter(population,sklearn_predictions)\n",
        "plt.xlabel('Population')\n",
        "plt.ylabel('bedrooms')"
      ],
      "execution_count": 7,
      "outputs": [
        {
          "output_type": "execute_result",
          "data": {
            "text/plain": [
              "Text(0, 0.5, 'bedrooms')"
            ]
          },
          "metadata": {},
          "execution_count": 7
        },
        {
          "output_type": "display_data",
          "data": {
            "image/png": "[encoded data removed]",
            "text/plain": [
              "<Figure size 432x288 with 1 Axes>"
            ]
          },
          "metadata": {
            "needs_background": "light"
          }
        }
      ]
    },
    {
      "cell_type": "markdown",
      "metadata": {
        "id": "TtPCqnQa3uOp"
      },
      "source": [
        "**let's now create a new DataFrame which we'll use later as a comparaison tool against the model we will create ourselve**"
      ]
    },
    {
      "cell_type": "code",
      "metadata": {
        "colab": {
          "base_uri": "https://localhost:8080/",
          "height": 424
        },
        "id": "hEsHTsfM_H3p",
        "outputId": "8df41dce-9fb5-4e4b-f383-09707537da3e"
      },
      "source": [
        "predictions_df = pd.DataFrame({'Population': population,'Bedrooms': bedrooms,'sklearn_predictions':sklearn_predictions})\n",
        "predictions_df"
      ],
      "execution_count": 8,
      "outputs": [
        {
          "output_type": "execute_result",
          "data": {
            "text/html": [
              "<div>\n",
              "<style scoped>\n",
              "    .dataframe tbody tr th:only-of-type {\n",
              "        vertical-align: middle;\n",
              "    }\n",
              "\n",
              "    .dataframe tbody tr th {\n",
              "        vertical-align: top;\n",
              "    }\n",
              "\n",
              "    .dataframe thead th {\n",
              "        text-align: right;\n",
              "    }\n",
              "</style>\n",
              "<table border=\"1\" class=\"dataframe\">\n",
              "  <thead>\n",
              "    <tr style=\"text-align: right;\">\n",
              "      <th></th>\n",
              "      <th>Population</th>\n",
              "      <th>Bedrooms</th>\n",
              "      <th>sklearn_predictions</th>\n",
              "    </tr>\n",
              "  </thead>\n",
              "  <tbody>\n",
              "    <tr>\n",
              "      <th>0</th>\n",
              "      <td>1015.0</td>\n",
              "      <td>1283.0</td>\n",
              "      <td>405.266668</td>\n",
              "    </tr>\n",
              "    <tr>\n",
              "      <th>1</th>\n",
              "      <td>1129.0</td>\n",
              "      <td>1901.0</td>\n",
              "      <td>442.153776</td>\n",
              "    </tr>\n",
              "    <tr>\n",
              "      <th>2</th>\n",
              "      <td>333.0</td>\n",
              "      <td>174.0</td>\n",
              "      <td>184.591162</td>\n",
              "    </tr>\n",
              "    <tr>\n",
              "      <th>3</th>\n",
              "      <td>515.0</td>\n",
              "      <td>337.0</td>\n",
              "      <td>243.481106</td>\n",
              "    </tr>\n",
              "    <tr>\n",
              "      <th>4</th>\n",
              "      <td>624.0</td>\n",
              "      <td>326.0</td>\n",
              "      <td>278.750359</td>\n",
              "    </tr>\n",
              "    <tr>\n",
              "      <th>...</th>\n",
              "      <td>...</td>\n",
              "      <td>...</td>\n",
              "      <td>...</td>\n",
              "    </tr>\n",
              "    <tr>\n",
              "      <th>16995</th>\n",
              "      <td>907.0</td>\n",
              "      <td>394.0</td>\n",
              "      <td>370.320987</td>\n",
              "    </tr>\n",
              "    <tr>\n",
              "      <th>16996</th>\n",
              "      <td>1194.0</td>\n",
              "      <td>528.0</td>\n",
              "      <td>463.185899</td>\n",
              "    </tr>\n",
              "    <tr>\n",
              "      <th>16997</th>\n",
              "      <td>1244.0</td>\n",
              "      <td>531.0</td>\n",
              "      <td>479.364455</td>\n",
              "    </tr>\n",
              "    <tr>\n",
              "      <th>16998</th>\n",
              "      <td>1298.0</td>\n",
              "      <td>552.0</td>\n",
              "      <td>496.837296</td>\n",
              "    </tr>\n",
              "    <tr>\n",
              "      <th>16999</th>\n",
              "      <td>806.0</td>\n",
              "      <td>300.0</td>\n",
              "      <td>337.640303</td>\n",
              "    </tr>\n",
              "  </tbody>\n",
              "</table>\n",
              "<p>17000 rows × 3 columns</p>\n",
              "</div>"
            ],
            "text/plain": [
              "       Population  Bedrooms  sklearn_predictions\n",
              "0          1015.0    1283.0           405.266668\n",
              "1          1129.0    1901.0           442.153776\n",
              "2           333.0     174.0           184.591162\n",
              "3           515.0     337.0           243.481106\n",
              "4           624.0     326.0           278.750359\n",
              "...           ...       ...                  ...\n",
              "16995       907.0     394.0           370.320987\n",
              "16996      1194.0     528.0           463.185899\n",
              "16997      1244.0     531.0           479.364455\n",
              "16998      1298.0     552.0           496.837296\n",
              "16999       806.0     300.0           337.640303\n",
              "\n",
              "[17000 rows x 3 columns]"
            ]
          },
          "metadata": {},
          "execution_count": 8
        }
      ]
    },
    {
      "cell_type": "markdown",
      "metadata": {
        "id": "73-lWMrS4Mkp"
      },
      "source": [
        "# Now we'll begin to create our new model based on the mathematical formulas and estimations for the linear Regression algorithm ."
      ]
    },
    {
      "cell_type": "markdown",
      "metadata": {
        "id": "5_cguxD74WvO"
      },
      "source": [
        "**First the basics and the functions we'll need to implement the linear Regression**"
      ]
    },
    {
      "cell_type": "code",
      "metadata": {
        "id": "nZqhyUNu_gFw"
      },
      "source": [
        "# Linearity assumes that total_bedrooms[i] = alpha + (beta * population[i]) + error \n",
        "# generally  y[i] = alpha + ( beta * x[i]) + error \n",
        "\n",
        "def get_predictions(model, x):\n",
        "  '''\n",
        "  Obtain the predictions of the given model and inputs.\n",
        "\n",
        "  model : {'alpha_hat': Number , 'beta_hat':Number}\n",
        "  x: np.array of floats with shape(n,) of inputs\n",
        "\n",
        "  Returns : no.array of floats with shape(n,).\n",
        "   '''\n",
        "  alpha_hat = model['alpha_hat']\n",
        "  beta_hat = model['beta_hat']\n",
        "\n",
        "  return alpha_hat + beta_hat * x"
      ],
      "execution_count": 9,
      "outputs": []
    },
    {
      "cell_type": "markdown",
      "metadata": {
        "id": "qwazEZRV4oWr"
      },
      "source": [
        "**Let's test some random parameters as values for alpha and beta and visualize the outputs.**"
      ]
    },
    {
      "cell_type": "code",
      "metadata": {
        "colab": {
          "base_uri": "https://localhost:8080/"
        },
        "id": "hm8boAkDBBng",
        "outputId": "0bd82576-e054-4181-fda6-316b36b4b818"
      },
      "source": [
        "#testing get_predictions\n",
        "\n",
        "test_model = {'alpha_hat':2,'beta_hat':3}\n",
        "test_x = np.array([1,4,3])\n",
        "get_predictions(test_model,test_x)"
      ],
      "execution_count": 10,
      "outputs": [
        {
          "output_type": "execute_result",
          "data": {
            "text/plain": [
              "array([ 5, 14, 11])"
            ]
          },
          "metadata": {},
          "execution_count": 10
        }
      ]
    },
    {
      "cell_type": "code",
      "metadata": {
        "colab": {
          "base_uri": "https://localhost:8080/",
          "height": 297
        },
        "id": "3J8qMUUeFOAP",
        "outputId": "f9cb4672-9d69-4bbd-eb38-1a00f7907bcb"
      },
      "source": [
        "#Visualization\n",
        "plt.scatter(population,bedrooms)\n",
        "plt.scatter(population, get_predictions(test_model,population_np))\n",
        "plt.xlabel('Population')\n",
        "plt.ylabel('bedrooms')"
      ],
      "execution_count": 11,
      "outputs": [
        {
          "output_type": "execute_result",
          "data": {
            "text/plain": [
              "Text(0, 0.5, 'bedrooms')"
            ]
          },
          "metadata": {},
          "execution_count": 11
        },
        {
          "output_type": "display_data",
          "data": {
            "image/png": "[encoded data removed]",
            "text/plain": [
              "<Figure size 432x288 with 1 Axes>"
            ]
          },
          "metadata": {
            "needs_background": "light"
          }
        }
      ]
    },
    {
      "cell_type": "markdown",
      "metadata": {
        "id": "sG7HXcHj40Yq"
      },
      "source": [
        "**It's clear that the parametres alpha and beta we chose are not the most optimal to minimze the error so we'll move on to how to:**\n",
        "\n",
        "1.   Evaluate our error\n",
        "2.   Estimate the most optimal alpha and beta for a minimal error\n",
        "\n"
      ]
    },
    {
      "cell_type": "code",
      "metadata": {
        "id": "M3A2CnWjB8ft"
      },
      "source": [
        "def mean_squared_error(y,y_predictions):\n",
        "  '''Returns the mean squared error given the observd and the prediction outputs.\n",
        "  \n",
        "  y:np.array of floats with shape(n,) of observed outputs.\n",
        "  y_predictions :  np.array of floats with shape (n,) of predicted outputs.\n",
        "\n",
        "  returns float representing the MSE\n",
        "  '''\n",
        "  n = len(y)\n",
        "  return np.sum(np.square(y-y_predictions))/n\n",
        "\n",
        "def mean_absolute_error(y, y_predictions):\n",
        "  '''Returns the mean absolute error given the observd and the prediction outputs.\n",
        "  \n",
        "  y:np.array of floats with shape(n,) of observed outputs.\n",
        "  y_predictions :  np.array of floats with shape (n,) of predicted outputs.\n",
        "\n",
        "  returns float representing the MSE\n",
        "  '''\n",
        "  n = len(y)\n",
        "  return np.sum(np.abs(y-y_predictions))/n"
      ],
      "execution_count": 12,
      "outputs": []
    },
    {
      "cell_type": "code",
      "metadata": {
        "colab": {
          "base_uri": "https://localhost:8080/"
        },
        "id": "ymRPyU8yDL2c",
        "outputId": "b6c99303-d858-4da8-fe80-fe30d208964e"
      },
      "source": [
        "mse1 = mean_squared_error(get_predictions(test_model,population_np),bedrooms)\n",
        "mse1"
      ],
      "execution_count": 13,
      "outputs": [
        {
          "output_type": "execute_result",
          "data": {
            "text/plain": [
              "23549577.56382353"
            ]
          },
          "metadata": {},
          "execution_count": 13
        }
      ]
    },
    {
      "cell_type": "code",
      "metadata": {
        "colab": {
          "base_uri": "https://localhost:8080/"
        },
        "id": "-qccWqoIDfRS",
        "outputId": "bd3e0f4d-36cc-4c19-c159-df71130f4cd1"
      },
      "source": [
        "mae1 = mean_absolute_error(get_predictions(test_model,population_np),bedrooms)\n",
        "mae1"
      ],
      "execution_count": 14,
      "outputs": [
        {
          "output_type": "execute_result",
          "data": {
            "text/plain": [
              "3751.581705882353"
            ]
          },
          "metadata": {},
          "execution_count": 14
        }
      ]
    },
    {
      "cell_type": "markdown",
      "metadata": {
        "id": "SK77rPzE5gC7"
      },
      "source": [
        "**We can see how huge the error is for the arbitrary alpha and beta values are let's move on now to the second part:**"
      ]
    },
    {
      "cell_type": "markdown",
      "metadata": {
        "id": "y2uSunt95rhq"
      },
      "source": [
        "**These next formulas are how alpha and beta are calculated, let's implement them in our code**"
      ]
    },
    {
      "cell_type": "markdown",
      "metadata": {
        "id": "cCBb7fFmJkqW"
      },
      "source": [
        "$\\hat{\\beta} = \\frac{\\sum_{i=1}^{n}(xi-\\overline{x})(yi-\\overline{y})}{\\sum_{i=1}^{n}(xi-\\overline{x})^2} $  , $\\hat{\\alpha} = \\overline{y} - \\hat{\\beta} \\overline{x}  $  "
      ]
    },
    {
      "cell_type": "code",
      "metadata": {
        "id": "IAYCFqaxDwp9"
      },
      "source": [
        "def get_best_model(x,y):\n",
        "  '''\n",
        "  Returns the model with the parameters that minimize the MSE\n",
        "  \n",
        "  x:np.array of floats with shape (n,) of inputs\n",
        "  y:np.array of floats with shape (n,) of outputs\n",
        "  \n",
        "  return : {'alpha_hat':Float , 'beta_hat':Float } representing the model.\n",
        "  '''\n",
        "\n",
        "  x_bar = np.average(x)\n",
        "  y_bar = np.average(y)\n",
        "\n",
        "  top = np.sum((x-x_bar)*(y-y_bar))\n",
        "  bot = np.sum((x-x_bar)**2)\n",
        "  beta_hat  = top/bot\n",
        "  alpha_hat = y_bar - beta_hat*x_bar\n",
        "\n",
        "  return {'alpha_hat':alpha_hat,'beta_hat': beta_hat}"
      ],
      "execution_count": 15,
      "outputs": []
    },
    {
      "cell_type": "code",
      "metadata": {
        "colab": {
          "base_uri": "https://localhost:8080/"
        },
        "id": "EHMtWWfaE651",
        "outputId": "e5f3b166-8469-47fc-811c-5dbc0026d8bd"
      },
      "source": [
        "best_model = get_best_model(population_np,bedrooms_np)\n",
        "best_model"
      ],
      "execution_count": 16,
      "outputs": [
        {
          "output_type": "execute_result",
          "data": {
            "text/plain": [
              "{'alpha_hat': 76.84197820308827, 'beta_hat': 0.32357112283793565}"
            ]
          },
          "metadata": {},
          "execution_count": 16
        }
      ]
    },
    {
      "cell_type": "code",
      "metadata": {
        "colab": {
          "base_uri": "https://localhost:8080/"
        },
        "id": "4j9kbobUG0tO",
        "outputId": "17fb90c9-4bf2-41ab-adc5-2d239d03b5f4"
      },
      "source": [
        "# we can see that we've gotten a much lower mean absolute error ( from 3700 to 118 ) which is quite satisfactory\n",
        "mae2 = mean_absolute_error(predictions_df['Bedrooms'],predictions_df['our_model_predictions'])\n",
        "mae2"
      ],
      "execution_count": 41,
      "outputs": [
        {
          "output_type": "execute_result",
          "data": {
            "text/plain": [
              "118.46978339085754"
            ]
          },
          "metadata": {},
          "execution_count": 41
        }
      ]
    },
    {
      "cell_type": "code",
      "metadata": {
        "colab": {
          "base_uri": "https://localhost:8080/",
          "height": 513
        },
        "id": "Vo6A8HwpFHza",
        "outputId": "66eb852d-2172-4d90-d98b-565daad4669d"
      },
      "source": [
        "fig = plt.figure(figsize=(8,8))\n",
        "ax1 = fig.add_subplot(121)\n",
        "ax2 = fig.add_subplot(122)\n",
        "ax1.scatter(population,bedrooms)\n",
        "ax1.scatter(population, get_predictions(best_model,population_np))\n",
        "ax2.scatter(population,bedrooms)\n",
        "ax2.scatter(population, sklearn_predictions)\n",
        "ax1.set_title('our predictions')\n",
        "ax1.set_xlabel('population')\n",
        "ax1.set_ylabel('total bedrooms')\n",
        "\n",
        "ax2.set_title('sklearn predictions')\n",
        "ax2.set_xlabel('population')\n",
        "ax2.set_ylabel('total bedrooms')\n",
        "plt.show()\n"
      ],
      "execution_count": 38,
      "outputs": [
        {
          "output_type": "display_data",
          "data": {
            "image/png": "[encoded data removed]",
            "text/plain": [
              "<Figure size 576x576 with 2 Axes>"
            ]
          },
          "metadata": {
            "needs_background": "light"
          }
        }
      ]
    },
    {
      "cell_type": "markdown",
      "metadata": {
        "id": "ktX6RKyv97Ry"
      },
      "source": [
        "**It's safe to assume that scikit learn uses the same implementation as this since the values are the same visually but to be sure let's check the numerical values in the dataFrame**"
      ]
    },
    {
      "cell_type": "code",
      "metadata": {
        "colab": {
          "base_uri": "https://localhost:8080/",
          "height": 424
        },
        "id": "XmTMyzawF-zw",
        "outputId": "bb03b23e-d823-42d9-81f5-dc583469df30"
      },
      "source": [
        "predictions_df['our_model_predictions'] = get_predictions(best_model,population_np)\n",
        "predictions_df"
      ],
      "execution_count": 39,
      "outputs": [
        {
          "output_type": "execute_result",
          "data": {
            "text/html": [
              "<div>\n",
              "<style scoped>\n",
              "    .dataframe tbody tr th:only-of-type {\n",
              "        vertical-align: middle;\n",
              "    }\n",
              "\n",
              "    .dataframe tbody tr th {\n",
              "        vertical-align: top;\n",
              "    }\n",
              "\n",
              "    .dataframe thead th {\n",
              "        text-align: right;\n",
              "    }\n",
              "</style>\n",
              "<table border=\"1\" class=\"dataframe\">\n",
              "  <thead>\n",
              "    <tr style=\"text-align: right;\">\n",
              "      <th></th>\n",
              "      <th>Population</th>\n",
              "      <th>Bedrooms</th>\n",
              "      <th>sklearn_predictions</th>\n",
              "      <th>our_model_predictions</th>\n",
              "    </tr>\n",
              "  </thead>\n",
              "  <tbody>\n",
              "    <tr>\n",
              "      <th>0</th>\n",
              "      <td>1015.0</td>\n",
              "      <td>1283.0</td>\n",
              "      <td>405.266668</td>\n",
              "      <td>405.266668</td>\n",
              "    </tr>\n",
              "    <tr>\n",
              "      <th>1</th>\n",
              "      <td>1129.0</td>\n",
              "      <td>1901.0</td>\n",
              "      <td>442.153776</td>\n",
              "      <td>442.153776</td>\n",
              "    </tr>\n",
              "    <tr>\n",
              "      <th>2</th>\n",
              "      <td>333.0</td>\n",
              "      <td>174.0</td>\n",
              "      <td>184.591162</td>\n",
              "      <td>184.591162</td>\n",
              "    </tr>\n",
              "    <tr>\n",
              "      <th>3</th>\n",
              "      <td>515.0</td>\n",
              "      <td>337.0</td>\n",
              "      <td>243.481106</td>\n",
              "      <td>243.481106</td>\n",
              "    </tr>\n",
              "    <tr>\n",
              "      <th>4</th>\n",
              "      <td>624.0</td>\n",
              "      <td>326.0</td>\n",
              "      <td>278.750359</td>\n",
              "      <td>278.750359</td>\n",
              "    </tr>\n",
              "    <tr>\n",
              "      <th>...</th>\n",
              "      <td>...</td>\n",
              "      <td>...</td>\n",
              "      <td>...</td>\n",
              "      <td>...</td>\n",
              "    </tr>\n",
              "    <tr>\n",
              "      <th>16995</th>\n",
              "      <td>907.0</td>\n",
              "      <td>394.0</td>\n",
              "      <td>370.320987</td>\n",
              "      <td>370.320987</td>\n",
              "    </tr>\n",
              "    <tr>\n",
              "      <th>16996</th>\n",
              "      <td>1194.0</td>\n",
              "      <td>528.0</td>\n",
              "      <td>463.185899</td>\n",
              "      <td>463.185899</td>\n",
              "    </tr>\n",
              "    <tr>\n",
              "      <th>16997</th>\n",
              "      <td>1244.0</td>\n",
              "      <td>531.0</td>\n",
              "      <td>479.364455</td>\n",
              "      <td>479.364455</td>\n",
              "    </tr>\n",
              "    <tr>\n",
              "      <th>16998</th>\n",
              "      <td>1298.0</td>\n",
              "      <td>552.0</td>\n",
              "      <td>496.837296</td>\n",
              "      <td>496.837296</td>\n",
              "    </tr>\n",
              "    <tr>\n",
              "      <th>16999</th>\n",
              "      <td>806.0</td>\n",
              "      <td>300.0</td>\n",
              "      <td>337.640303</td>\n",
              "      <td>337.640303</td>\n",
              "    </tr>\n",
              "  </tbody>\n",
              "</table>\n",
              "<p>17000 rows × 4 columns</p>\n",
              "</div>"
            ],
            "text/plain": [
              "       Population  Bedrooms  sklearn_predictions  our_model_predictions\n",
              "0          1015.0    1283.0           405.266668             405.266668\n",
              "1          1129.0    1901.0           442.153776             442.153776\n",
              "2           333.0     174.0           184.591162             184.591162\n",
              "3           515.0     337.0           243.481106             243.481106\n",
              "4           624.0     326.0           278.750359             278.750359\n",
              "...           ...       ...                  ...                    ...\n",
              "16995       907.0     394.0           370.320987             370.320987\n",
              "16996      1194.0     528.0           463.185899             463.185899\n",
              "16997      1244.0     531.0           479.364455             479.364455\n",
              "16998      1298.0     552.0           496.837296             496.837296\n",
              "16999       806.0     300.0           337.640303             337.640303\n",
              "\n",
              "[17000 rows x 4 columns]"
            ]
          },
          "metadata": {},
          "execution_count": 39
        }
      ]
    },
    {
      "cell_type": "markdown",
      "metadata": {
        "id": "Ih74iIz4-Ov-"
      },
      "source": [
        "**we can see the values are the same, and we have succesfully replicated the simplest linear regressor that scikit learn uses.**"
      ]
    }
  ]
}